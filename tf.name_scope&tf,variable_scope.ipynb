{
 "cells": [
  {
   "cell_type": "markdown",
   "metadata": {},
   "source": [
    "# Tensorflow Tutorial \n",
    "\n",
    "\n",
    "Copyright 2018 liang Wei"
   ]
  },
  {
   "cell_type": "markdown",
   "metadata": {},
   "source": [
    "## tf.name_scope('name_scope')\n",
    "tf.name_scope 主要是结合 tf.variable() 来使用，方便参数命名管理"
   ]
  },
  {
   "cell_type": "code",
   "execution_count": 1,
   "metadata": {},
   "outputs": [
    {
     "name": "stdout",
     "output_type": "stream",
     "text": [
      "weights1.name: conv1/weights:0\n",
      "bias1.name: conv1/bias:0\n",
      "weights2.name: conv2/weights:0\n",
      "bias2.name: conv2/bias:0\n"
     ]
    }
   ],
   "source": [
    "'''\n",
    "Sifnature: tf.name_scope(*args, **kwds)\n",
    "Docstring: Return a context manager for use when defining a Python op.\n",
    "'''\n",
    "# 也就是说，它的主要目的是为了方便管理参数命名\n",
    "import tensorflow as tf\n",
    "with tf.name_scope('conv1') as scope:\n",
    "    weights1 = tf.Variable([1.0,2.0],name='weights')\n",
    "    bias1 = tf.Variable([0.3],name='bias')\n",
    "\n",
    "# 下面是在另外一个命名空间来定义变量的\n",
    "with tf.name_scope('conv2') as scope:\n",
    "    weights2 = tf.Variable([4.0,2.0],name='weights')\n",
    "    bias2 = tf.Variable([0.33],name='bias')\n",
    "    \n",
    "# 所以，实际上weights1 和weights2 这两个引用名指向了不同的空间，不会冲突\n",
    "print('weights1.name:',weights1.name)\n",
    "print('bias1.name:',bias1.name)\n",
    "print('weights2.name:',weights2.name)\n",
    "print('bias2.name:',bias2.name)"
   ]
  },
  {
   "cell_type": "markdown",
   "metadata": {},
   "source": [
    "注意，这里的with和python 中其他的with 是不一样的\n",
    "\n",
    "执行完with里边的语句之后，这个conv1/ 和conv2/ 空间还是在内存中的。这时在执行上面的代码就会产生其他的命名空间"
   ]
  },
  {
   "cell_type": "code",
   "execution_count": 2,
   "metadata": {},
   "outputs": [
    {
     "name": "stdout",
     "output_type": "stream",
     "text": [
      "weights1.name: conv1_1/weights:0\n",
      "bias1.name: conv1_1/bias:0\n",
      "weights2.name: conv2_1/weights:0\n",
      "bias2.name: conv2_1/bias:0\n"
     ]
    }
   ],
   "source": [
    "with tf.name_scope('conv1') as scope:\n",
    "    weights1 = tf.Variable([1.0,2.0],name='weights')\n",
    "    bias1 = tf.Variable([0.3],name='bias')\n",
    "\n",
    "with tf.name_scope('conv2') as scope:\n",
    "    weights2 = tf.Variable([4.0,2.0],name='weights')\n",
    "    bias2 = tf.Variable([0.33],name='bias')\n",
    "    \n",
    "print('weights1.name:',weights1.name)\n",
    "print('bias1.name:',bias1.name)\n",
    "print('weights2.name:',weights2.name)\n",
    "print('bias2.name:',bias2.name)"
   ]
  },
  {
   "cell_type": "markdown",
   "metadata": {},
   "source": [
    "## tf.variable_scope('scope_name')\n",
    "tf.variable_scope() 结合tf.get_variable() 使用，实现变量共享。"
   ]
  },
  {
   "cell_type": "code",
   "execution_count": 3,
   "metadata": {},
   "outputs": [
    {
     "name": "stdout",
     "output_type": "stream",
     "text": [
      "Weights1.name: v_scope/Weights:0\n",
      "Weights2.name: v_scope/Weights:0\n"
     ]
    }
   ],
   "source": [
    "#这里是正确打开方式~~~可以看出，name参数才是对象的唯一标识\n",
    "import tensorflow as tf\n",
    "with tf.variable_scope('v_scope') as scope1:\n",
    "    Weights1 = tf.get_variable('Weights', shape=[2,3])\n",
    "    bias1 = tf.get_variable('bias',shape=[3])\n",
    "    \n",
    "#下面共享已经定义好的变量\n",
    "# note： 在下面的 scope 中的变量必须已经定义过了，才能设置reuse=True，否则会报错\n",
    "with tf.variable_scope('v_scope',reuse=True) as scope2:\n",
    "    Weights2 = tf.get_variable('Weights')\n",
    "\n",
    "print('Weights1.name:',Weights1.name)\n",
    "print('Weights2.name:',Weights2.name)"
   ]
  },
  {
   "cell_type": "markdown",
   "metadata": {},
   "source": [
    "可以看到这两个引用名称指向的是同一个内存对象"
   ]
  },
  {
   "cell_type": "markdown",
   "metadata": {},
   "source": [
    "tf.variable_scope() 结合 tf.variable() 一块使用"
   ]
  },
  {
   "cell_type": "code",
   "execution_count": 6,
   "metadata": {},
   "outputs": [
    {
     "name": "stdout",
     "output_type": "stream",
     "text": [
      "Weights2.name: v_scope/Weights:0\n",
      "bias2.name: v_scope_4/bias:0\n"
     ]
    }
   ],
   "source": [
    "import tensorflow as tf\n",
    "# with tf.variable_scope('v_scope') as scope1:\n",
    "#     Weights1 = tf.get_variable('Weights',shape=[2,3])\n",
    "#     bias1 = tf.Variable([0.52],name='bias')\n",
    "    \n",
    "# 下面来共享上面已经定义好的变量\n",
    "# note: 在下面的 scope 中的get_variable() 变量必须是已经定义过的，才能设置reuse=True,否则会报错\n",
    "with tf.variable_scope('v_scope',reuse=True) as scope2:\n",
    "    Weights2 = tf.get_variable('Weights')\n",
    "    bias2 = tf.Variable([0.52],name='bias')\n",
    "\n",
    "# print('Weights1.name:',Weights1.name)\n",
    "print('Weights2.name:',Weights2.name)\n",
    "print('bias2.name:',bias2.name)"
   ]
  },
  {
   "cell_type": "markdown",
   "metadata": {},
   "source": [
    "这样子的话就会报错\n",
    "Variable v_scope/bias does not exist, or was not created with tf.get_variable()"
   ]
  },
  {
   "cell_type": "code",
   "execution_count": null,
   "metadata": {
    "collapsed": true
   },
   "outputs": [],
   "source": []
  }
 ],
 "metadata": {
  "kernelspec": {
   "display_name": "Python 3",
   "language": "python",
   "name": "python3"
  },
  "language_info": {
   "codemirror_mode": {
    "name": "ipython",
    "version": 3
   },
   "file_extension": ".py",
   "mimetype": "text/x-python",
   "name": "python",
   "nbconvert_exporter": "python",
   "pygments_lexer": "ipython3",
   "version": "3.6.1"
  }
 },
 "nbformat": 4,
 "nbformat_minor": 2
}
