{
 "cells": [
  {
   "cell_type": "markdown",
   "metadata": {},
   "source": [
    "# 权重衰减"
   ]
  },
  {
   "cell_type": "markdown",
   "metadata": {},
   "source": [
    "上节讨论了过拟合现象，即模型的训练误差远小于它在测试集上的误差。虽然增大数据集可能会减轻过拟合，但是获得额外的训练数据往往代价高昂。下面介绍应对过拟合的常用方法：**权重衰减**（weight decay）"
   ]
  },
  {
   "cell_type": "markdown",
   "metadata": {},
   "source": [
    "权重衰减等价于$L_{2}$范数**正则化**（regularization）。正则化的思想是在损失函数中增加刻画模型复杂度的指标，通过为模型损失函数添加惩罚项使得学出的模型参数较小，是应对过拟合的常用手段。  \n",
    "假设用于刻画模型在训练数据集上的表现的损失函数为 $L(w)$，那么在优化时不直接优化 $L(w)$，而是优化 $L(w)+\\lambda R(w)$，其中，$R(w)$ 就是用来刻画模型的复杂程度的，而$\\lambda $ 表示模型复杂程度在总损失的比例。  \n",
    "以线性回归中的损失函数  \n",
    "$$l(w,b) = \\frac{1}{n}\\sum_{i=1}^{n}\\frac{1}{2}(x^{i} w + b - y^{i})^{2}$$\n",
    "为例，其中 $w$ 是权重参数，$b$ 是偏置参数，$x^{i}$ 为第 $i$ 个样本，标签为 $y^{i}$，样本总数为 $n$ ，则带有 $L_{2}$ 范数的惩罚项的新损失函数为  \n",
    "$$ l(w,b) + \\frac{\\lambda}{2n}||w||^{2}$$  \n",
    "在小批量的随机梯度下降中 $w$ 的迭代方式更改为  \n",
    "$$ w \\gets \\bigg(1 - \\frac{\\eta \\lambda}{|B|}\\bigg)w - \\frac{\\eta}{|B|} \\sum_{i\\in B}x^{i}(x^{i}w + b - y^{i})$$  \n",
    "其中， $\\eta$ 为学习率。可见， $L_{2}$ 正则化令权重 $w$ 先乘小于 $1$ 的数，再减去不含惩罚项的梯度。因此， $L_{2}$ 范数的正则化又叫权重衰减。权重衰减通过惩罚绝对值较大的模型参数为需要学习的模型增加了限制，这可能对过拟合有效。实际场景中，我们有时也对惩罚项中添加偏差元素的平方和。"
   ]
  },
  {
   "cell_type": "markdown",
   "metadata": {},
   "source": [
    "## 高维线性回归实验"
   ]
  },
  {
   "cell_type": "markdown",
   "metadata": {
    "collapsed": true
   },
   "source": [
    "下面，通过一个高维线性回归为例引入一个过拟合问题，并使用权重衰减来试着应对过拟合。\n",
    "设数据样本特征维度为 $p$，对于训练数据集和测试数据集中的特征为 $x_{1},x_{2},...x_{p}$ 的任意一样本，我们使用如下的线性函数来生成该样本的标签：  \n",
    "$$ y = 0.05 + \\sum_{i=1}^{p}0.01x_{i} + \\epsilon$$  \n",
    "其中，噪音项服从均值为 $0$ 和标准差为$0.01$ 的正态分布。为了较容易的观察过拟合，我们考虑高维线性回归，设维度 $p=200$；同时，将训练数据集样本数设低，例如$20$"
   ]
  },
  {
   "cell_type": "code",
   "execution_count": 1,
   "metadata": {
    "collapsed": true
   },
   "outputs": [],
   "source": [
    "import tensorflow as tf\n",
    "import numpy as np\n",
    "import matplotlib.pyplot as plt\n",
    "%matplotlib inline"
   ]
  },
  {
   "cell_type": "code",
   "execution_count": 2,
   "metadata": {
    "collapsed": true
   },
   "outputs": [],
   "source": [
    "n_train, n_test, num_inputs = 20, 100, 200\n",
    "true_w, true_b = np.ones((num_inputs,1))*0.01, 0.05\n",
    "features = np.random.randn(n_train+n_test, num_inputs)\n",
    "labels = np.dot(features, true_w) + true_b\n",
    "labels += 0.01 * np.random.randn(n_train+n_test,1)\n",
    "\n",
    "# 产生训练集和测试集\n",
    "train_features, test_features = features[:n_train,:], features[n_train:,:]\n",
    "train_labels, test_labels = labels[:n_train], labels[n_train:]"
   ]
  },
  {
   "cell_type": "markdown",
   "metadata": {
    "collapsed": true
   },
   "source": [
    "## 权重衰减实现\n",
    "通过在目标函数后面添加 $L_{2}$ 范数惩罚项来实现权重衰减。"
   ]
  },
  {
   "cell_type": "markdown",
   "metadata": {
    "collapsed": true
   },
   "source": [
    "### 定义模型参数"
   ]
  },
  {
   "cell_type": "code",
   "execution_count": 3,
   "metadata": {
    "collapsed": true
   },
   "outputs": [],
   "source": [
    "tf.set_random_seed(1)\n",
    "w = tf.Variable(tf.random_normal(shape=[num_inputs,1]), dtype=tf.float32)\n",
    "b = tf.Variable(tf.random_normal(shape=[1,]))"
   ]
  },
  {
   "cell_type": "markdown",
   "metadata": {
    "collapsed": true
   },
   "source": [
    "### 定义$L_{2}$范数惩罚项\n",
    "这里只惩罚了模型的权重参数"
   ]
  },
  {
   "cell_type": "code",
   "execution_count": 4,
   "metadata": {
    "collapsed": true
   },
   "outputs": [],
   "source": [
    "def l2_penalty(w):\n",
    "    return tf.reduce_mean((w**2))/2"
   ]
  },
  {
   "cell_type": "markdown",
   "metadata": {
    "collapsed": true
   },
   "source": [
    "### 定义训练和测试"
   ]
  },
  {
   "cell_type": "code",
   "execution_count": 47,
   "metadata": {
    "collapsed": true
   },
   "outputs": [],
   "source": [
    "num_epochs, lr = 100, 0.003\n",
    "# 不使用权重衰减\n",
    "lambd = 0\n",
    "\n",
    "# Initialize placeholders\n",
    "x = tf.placeholder(dtype=tf.float32, shape=[None,num_inputs])\n",
    "y = tf.placeholder(dtype=tf.float32, shape=[None, 1])\n",
    "\n",
    "# Declare model operations\n",
    "prediction = tf.matmul(x,w) + b\n",
    "\n",
    "# Declare loss function (L2 loss)\n",
    "loss = tf.losses.mean_squared_error(y, prediction) + lambd * l2_penalty(w) \n",
    "\n",
    "# Declare optimizer\n",
    "optimizer = tf.train.GradientDescentOptimizer(lr)\n",
    "train_step = optimizer.minimize(loss)\n",
    "\n",
    "# Create a graph session\n",
    "sess = tf.Session()\n",
    "\n",
    "# Initialize variables\n",
    "init = tf.global_variables_initializer()\n",
    "sess.run(init)"
   ]
  },
  {
   "cell_type": "code",
   "execution_count": 48,
   "metadata": {},
   "outputs": [
    {
     "name": "stdout",
     "output_type": "stream",
     "text": [
      "step: 0 |train_loss: 238.384 |test_loss: 229.49263\n",
      "step: 20 |train_loss: 19.708658 |test_loss: 222.38058\n",
      "step: 40 |train_loss: 2.47939 |test_loss: 222.17108\n",
      "step: 60 |train_loss: 0.38730204 |test_loss: 221.92088\n",
      "step: 80 |train_loss: 0.066941924 |test_loss: 221.71434\n"
     ]
    }
   ],
   "source": [
    "# 训练和测试\n",
    "train_ls = []\n",
    "test_ls = []\n",
    "for step in range(num_epochs):\n",
    "    sess.run(train_step, feed_dict={x:train_features, y: train_labels})\n",
    "    train_loss = sess.run(loss,feed_dict={x:train_features, y:train_labels})\n",
    "    test_loss = sess.run(loss,feed_dict={x:test_features, y:test_labels})\n",
    "    train_ls.append(train_loss)\n",
    "    test_ls.append(test_loss)\n",
    "    if step%20 == 0:\n",
    "        print('step:',step,'|train_loss:',train_loss,'|test_loss:',test_loss)"
   ]
  },
  {
   "cell_type": "markdown",
   "metadata": {},
   "source": [
    "### 定义loss画图函数"
   ]
  },
  {
   "cell_type": "code",
   "execution_count": 49,
   "metadata": {
    "collapsed": true
   },
   "outputs": [],
   "source": [
    "def plot_loss(x_vals, train_loss, test_loss, lambd):\n",
    "    plt.xlabel('epochs')\n",
    "    plt.ylabel('loss')\n",
    "    plt.title('lambda={}  Loss Analysis'.format(lambd))\n",
    "    plt.yscale(\"log\")\n",
    "    plt.plot(x_vals, train_loss, color='red', label='train_loss')\n",
    "    plt.plot(x_vals, test_loss, color='green', label='test_loss')\n",
    "    plt.legend()"
   ]
  },
  {
   "cell_type": "code",
   "execution_count": 50,
   "metadata": {},
   "outputs": [
    {
     "data": {
      "image/png": "[encoded data removed]",
      "text/plain": [
       "<matplotlib.figure.Figure at 0x1e72d7e7a58>"
      ]
     },
     "metadata": {},
     "output_type": "display_data"
    }
   ],
   "source": [
    "plot_loss(range(1,num_epochs+1),train_ls, test_ls, lambd)"
   ]
  },
  {
   "cell_type": "code",
   "execution_count": 51,
   "metadata": {
    "collapsed": true
   },
   "outputs": [],
   "source": [
    "num_epochs, lr = 100, 0.003\n",
    "\n",
    "# 使用权重衰减\n",
    "lambd = 300\n",
    "\n",
    "# Initialize placeholders\n",
    "x = tf.placeholder(dtype=tf.float32, shape=[None,num_inputs])\n",
    "y = tf.placeholder(dtype=tf.float32, shape=[None, 1])\n",
    "\n",
    "# Declare model operations\n",
    "prediction = tf.matmul(x,w) + b\n",
    "\n",
    "# Declare loss function (L2 loss)\n",
    "loss = tf.losses.mean_squared_error(y, prediction) + lambd * l2_penalty(w)\n",
    "# loss = tf.losses.mean_squared_error(y, prediction) + \\\n",
    "#         tf.contrib.layers.l2_regularizer(lambd)(w)\n",
    "\n",
    "# Declare optimizer\n",
    "optimizer = tf.train.GradientDescentOptimizer(lr)\n",
    "train_step = optimizer.minimize(loss)\n",
    "\n",
    "# Create a graph session\n",
    "sess = tf.Session()\n",
    "\n",
    "# Initialize variables\n",
    "init = tf.global_variables_initializer()\n",
    "sess.run(init)"
   ]
  },
  {
   "cell_type": "code",
   "execution_count": 52,
   "metadata": {},
   "outputs": [
    {
     "name": "stdout",
     "output_type": "stream",
     "text": [
      "step: 0 |train_loss: 395.479 |test_loss: 386.80835\n",
      "step: 20 |train_loss: 136.34079 |test_loss: 304.25333\n",
      "step: 40 |train_loss: 101.01241 |test_loss: 252.91531\n",
      "step: 60 |train_loss: 83.0316 |test_loss: 210.9466\n",
      "step: 80 |train_loss: 69.1587 |test_loss: 176.04572\n"
     ]
    }
   ],
   "source": [
    "train_ls = []\n",
    "test_ls = []\n",
    "for step in range(num_epochs):\n",
    "    sess.run(train_step, feed_dict={x:train_features, y: train_labels})\n",
    "    train_loss = sess.run(loss,feed_dict={x:train_features, y:train_labels})\n",
    "    test_loss = sess.run(loss,feed_dict={x:test_features, y:test_labels})\n",
    "    train_ls.append(train_loss)\n",
    "    test_ls.append(test_loss)\n",
    "    if step%20 == 0:\n",
    "        print('step:',step,'|train_loss:',train_loss,'|test_loss:',test_loss)"
   ]
  },
  {
   "cell_type": "code",
   "execution_count": 53,
   "metadata": {
    "scrolled": true
   },
   "outputs": [
    {
     "data": {
      "image/png": "[encoded data removed]",
      "text/plain": [
       "<matplotlib.figure.Figure at 0x1e72d5704e0>"
      ]
     },
     "metadata": {},
     "output_type": "display_data"
    }
   ],
   "source": [
    "plot_loss(range(1,num_epochs+1),train_ls, test_ls, lambd)"
   ]
  },
  {
   "cell_type": "markdown",
   "metadata": {
    "collapsed": true
   },
   "source": [
    "## 小结\n",
    "1. 正则化通过为模型损失函数添加惩罚项使得学出的模型参数值较小，是应对过拟合的常用手段。\n",
    "2. 权重衰减等价于 $L_{2}$ 范数正则化，通常会使学到的权重参数的元素较接近于$0$"
   ]
  },
  {
   "cell_type": "markdown",
   "metadata": {
    "collapsed": true
   },
   "source": [
    "在贝叶斯统计中 \n",
    "![image](./image/model_selection/l2.png)"
   ]
  },
  {
   "cell_type": "code",
   "execution_count": null,
   "metadata": {
    "collapsed": true
   },
   "outputs": [],
   "source": []
  }
 ],
 "metadata": {
  "kernelspec": {
   "display_name": "Python 3",
   "language": "python",
   "name": "python3"
  },
  "language_info": {
   "codemirror_mode": {
    "name": "ipython",
    "version": 3
   },
   "file_extension": ".py",
   "mimetype": "text/x-python",
   "name": "python",
   "nbconvert_exporter": "python",
   "pygments_lexer": "ipython3",
   "version": "3.6.1"
  }
 },
 "nbformat": 4,
 "nbformat_minor": 2
}
