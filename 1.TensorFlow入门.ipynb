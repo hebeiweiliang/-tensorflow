{
 "cells": [
  {
   "cell_type": "markdown",
   "metadata": {},
   "source": [
    "# TensorFlow Tutorial \n",
    "\n",
    "Copyright 2018 weiliang"
   ]
  },
  {
   "cell_type": "markdown",
   "metadata": {},
   "source": [
    "**TensorFlow™** is an open source software library for numerical computation using data flow graphs.\n",
    "![tensorflow](./image/tensorflow.png)\n",
    "**TensorFlow**采用数据、流、图（data &ensp; flow &ensp; graph）来计算。首先，需要创建一个数据流图，然后将数据（以张量(**tensor**)的形式存在）放入数据流图中计算，节点(**Nodes**)在图中表示数学操作，图中的线(**edges**)则表示在节点间相互联系的多维数组，即张量(tensor)。训练模型时tensor会不断重数据流图中的一个节点flow到另一个节点，这也就是为什么叫TensorFlow。  \n",
    "![tensors_flowing](./image/tensors_flowing.gif)\n",
    "**[TensorFlow](https://www.tensorflow.org/)**提供很多**API**，最低级别的**API:TensorFlow Core**,提供完成程序控制；其他高级**API**像**tf.estimator**用来管理数据集合，估量，训练和推理。  "
   ]
  },
  {
   "cell_type": "code",
   "execution_count": 1,
   "metadata": {
    "collapsed": true
   },
   "outputs": [],
   "source": [
    "import tensorflow as tf"
   ]
  },
  {
   "cell_type": "markdown",
   "metadata": {},
   "source": [
    "上面的是TensorFlow程序的典型的**导入**语句，作用是赋予Python访问TensorFlow类(classes)，方法(methods)，符号(symbols)"
   ]
  },
  {
   "cell_type": "markdown",
   "metadata": {},
   "source": [
    "check version"
   ]
  },
  {
   "cell_type": "code",
   "execution_count": 2,
   "metadata": {},
   "outputs": [
    {
     "data": {
      "text/plain": [
       "'1.8.0'"
      ]
     },
     "execution_count": 2,
     "metadata": {},
     "output_type": "execute_result"
    }
   ],
   "source": [
    "tf.__version__"
   ]
  },
  {
   "cell_type": "markdown",
   "metadata": {},
   "source": [
    "### Everything is Tensor\n",
    "**3** is a rank 0 tensor; this is a scalar with shape []  \n",
    "**[1. ,2., 3.]** is a rank 1 tensor; this is a vector with shape [3]  \n",
    "**[[1., 2., 3.], [4., 5., 6.]]** is a rank 2 tensor; a matrix with shape [2, 3]  \n",
    "**[[[1., 2., 3.]], [[7., 8., 9.]]]** is a rank 3 tensor with shape [2, 1, 3] \n",
    "![tensor](./image/tensor.png)"
   ]
  },
  {
   "cell_type": "markdown",
   "metadata": {},
   "source": [
    "## 1、The Computional Graph(计算图)\n",
    "TensorFlow核心程序由两个独立部分组成：  \n",
    "&ensp;&ensp;1、Building the computational graph（**构建计算图**）  \n",
    "&ensp;&ensp;2、Running the computational graph （**运行计算图**） \n",
    "  \n",
    "  \n",
    "一个computation graph（计算图）是一系列的TensorFlow操作排列成一个节点图。  \n",
    "下面先创建两个节点：  "
   ]
  },
  {
   "cell_type": "code",
   "execution_count": 4,
   "metadata": {},
   "outputs": [
    {
     "name": "stdout",
     "output_type": "stream",
     "text": [
      "node1: Tensor(\"Const_2:0\", shape=(), dtype=float32)\n",
      "node2: Tensor(\"Const_3:0\", shape=(), dtype=float32)\n"
     ]
    }
   ],
   "source": [
    "node1 = tf.constant(3.0,dtype=tf.float32)\n",
    "node2 = tf.constant(4.0) # also tf,float32 implicity\n",
    "print(\"node1:\",node1)\n",
    "print(\"node2:\",node2)"
   ]
  },
  {
   "cell_type": "markdown",
   "metadata": {
    "collapsed": true
   },
   "source": [
    "## 2、Session(会话)\n",
    "若将结果打印出来，须使用<font color=Darkorange>Session.run()</font>命令:一个session封装了TensorFlow运行时的控制和状态"
   ]
  },
  {
   "cell_type": "code",
   "execution_count": 6,
   "metadata": {},
   "outputs": [
    {
     "name": "stdout",
     "output_type": "stream",
     "text": [
      "[3.0, 4.0]\n"
     ]
    }
   ],
   "source": [
    "sess = tf.Session()\n",
    "print(sess.run([node1,node2]))"
   ]
  },
  {
   "cell_type": "code",
   "execution_count": 7,
   "metadata": {},
   "outputs": [
    {
     "name": "stdout",
     "output_type": "stream",
     "text": [
      "sess.run(node1): 3.0\n",
      "sess.run(node2): 4.0\n"
     ]
    }
   ],
   "source": [
    "print('sess.run(node1):',sess.run(node1))\n",
    "print('sess.run(node2):',sess.run(node2))"
   ]
  },
  {
   "cell_type": "markdown",
   "metadata": {},
   "source": [
    "我们可以组合**Tensor**节点的操作（操作仍然是一个节点）来构造更为复杂的计算。 \n",
    "  \n",
    "  \n",
    "下面构造一个加法运算："
   ]
  },
  {
   "cell_type": "code",
   "execution_count": 8,
   "metadata": {
    "collapsed": true
   },
   "outputs": [],
   "source": [
    "add = tf.add(node1,node2)"
   ]
  },
  {
   "cell_type": "code",
   "execution_count": 9,
   "metadata": {},
   "outputs": [
    {
     "name": "stdout",
     "output_type": "stream",
     "text": [
      "add: Tensor(\"Add:0\", shape=(), dtype=float32)\n"
     ]
    }
   ],
   "source": [
    "print('add:',add)"
   ]
  },
  {
   "cell_type": "code",
   "execution_count": 10,
   "metadata": {},
   "outputs": [
    {
     "name": "stdout",
     "output_type": "stream",
     "text": [
      "sess.run(add): 7.0\n"
     ]
    }
   ],
   "source": [
    "print('sess.run(add):',sess.run(add))"
   ]
  },
  {
   "cell_type": "markdown",
   "metadata": {},
   "source": [
    "## 3、tensorboard\n",
    "tensorflow中非常有用的可视化工具**tenosrboard**，它能展示一个计算图的图片和记录训练过程，常用来分析训练效果，理解训练框架"
   ]
  },
  {
   "cell_type": "code",
   "execution_count": 8,
   "metadata": {
    "collapsed": true
   },
   "outputs": [],
   "source": [
    "writer = tf.summary.FileWriter('logs/',sess.graph) # 保存将计算图。## tensorflow version <0.12 (tf.train.SummaryWriter())"
   ]
  },
  {
   "cell_type": "markdown",
   "metadata": {},
   "source": [
    "在terminal(终端)上运行tensorboard：  \n",
    "&ensp;&ensp;输入命令： <font color=Darkorange>tensorboard --logdir logs</font>  \n",
    "&ensp;&ensp;同时将终端中的输出复制到浏览器中，便可以显示计算图了  \n",
    "&ensp;&ensp;使用<font color=Darkorange>tensorboard --help</font> 查看更多详细参数"
   ]
  },
  {
   "cell_type": "markdown",
   "metadata": {
    "collapsed": true
   },
   "source": [
    "下图就展示了这个计算图：\n",
    "![add](./image/add.png)"
   ]
  },
  {
   "cell_type": "markdown",
   "metadata": {},
   "source": [
    "## 4、Placehoder(占位符)\n",
    "一个计算图可以参数化的接收外部的输入，作为一个placeholder,一个占位符是允许后面提供一个值的。"
   ]
  },
  {
   "cell_type": "code",
   "execution_count": 11,
   "metadata": {
    "collapsed": true
   },
   "outputs": [],
   "source": [
    "a = tf.placeholder(dtype=tf.float32,shape=None)\n",
    "b = tf.placeholder(dtype=tf.float32,shape=None)\n",
    "adder_node = a + b # + provides a shortcut for tf.add(a,b)"
   ]
  },
  {
   "cell_type": "markdown",
   "metadata": {},
   "source": [
    "## 5、feed_dict（传递字典）\n",
    "参数传递具体值到run，可进行多个输入，并计算这个图"
   ]
  },
  {
   "cell_type": "code",
   "execution_count": 12,
   "metadata": {},
   "outputs": [
    {
     "name": "stdout",
     "output_type": "stream",
     "text": [
      "7.5\n",
      "[3. 7.]\n"
     ]
    }
   ],
   "source": [
    "print(sess.run(adder_node,feed_dict={a:3,b:4.5})) # when only one operation to run\n",
    "print(sess.run(adder_node,feed_dict={a: [1,3],b: [2,4]})) # when run multiple operations, run them together"
   ]
  },
  {
   "cell_type": "code",
   "execution_count": 11,
   "metadata": {
    "collapsed": true
   },
   "outputs": [],
   "source": [
    "writer = tf.summary.FileWriter('./logs/add/',sess.graph)"
   ]
  },
  {
   "cell_type": "markdown",
   "metadata": {},
   "source": [
    "在Tensorboard中，计算图类似于这样：\n",
    "![placeholder](./image/placeholder.png)"
   ]
  },
  {
   "cell_type": "markdown",
   "metadata": {},
   "source": [
    "## 6、Variable（变量）\n",
    "在机器学习，中我们通常想让一个模型可以接收任意多个值，保证模型可以被训练，在不改变输入的情况下，我们需要该变这个计算图获得一个新的输出。  \n",
    "**Variable(变量)**允许我们增加可训练的参数到这个计算图中，构造时需要指定一个类型和初始值"
   ]
  },
  {
   "attachments": {},
   "cell_type": "markdown",
   "metadata": {},
   "source": [
    "#### Linear Regression\n",
    "$$ y = -x + 1 $$\n",
    "x = [1, 2, 3, 4]  \n",
    "y = [0,-1,-2,-3]"
   ]
  },
  {
   "cell_type": "markdown",
   "metadata": {},
   "source": [
    "#### (Linear)Hypothesis\n",
    "$$H(x) = Wx+b $$"
   ]
  },
  {
   "cell_type": "code",
   "execution_count": 13,
   "metadata": {
    "collapsed": true
   },
   "outputs": [],
   "source": [
    "Weights = tf.Variable([.3],dtype=tf.float32)\n",
    "biases = tf.Variable([-.3],dtype=tf.float32)\n",
    "x = tf.placeholder(tf.float32)\n",
    "linear_model = Weights * x + biases"
   ]
  },
  {
   "cell_type": "markdown",
   "metadata": {},
   "source": [
    "运行下面这个命令将会出错！"
   ]
  },
  {
   "cell_type": "code",
   "execution_count": 14,
   "metadata": {},
   "outputs": [],
   "source": [
    "#print(sess.run(linear_model,{x:[1,2,3,4]}))"
   ]
  },
  {
   "cell_type": "markdown",
   "metadata": {},
   "source": [
    "当调用tf.Variable时变量是未被初始化的，在tensorflow程序中要想初始化这些变量，必须明确调用一个特定的操作:  \n",
    "&ensp;&ensp;<font color=Darkorange>tf.global_variables_initializer()</font>"
   ]
  },
  {
   "cell_type": "code",
   "execution_count": 15,
   "metadata": {
    "collapsed": true
   },
   "outputs": [],
   "source": [
    "init = tf.global_variables_initializer()\n",
    "sess.run(init)"
   ]
  },
  {
   "cell_type": "code",
   "execution_count": 16,
   "metadata": {},
   "outputs": [
    {
     "name": "stdout",
     "output_type": "stream",
     "text": [
      "[0.         0.3        0.6        0.90000004]\n"
     ]
    }
   ],
   "source": [
    "print(sess.run(linear_model,{x:[1,2,3,4]}))"
   ]
  },
  {
   "cell_type": "markdown",
   "metadata": {},
   "source": [
    "我们创建了一个模型，需要在训练数据上对这个模型进行评估，这时需要一个**y**占位符来提供一个期望的值，并且需要设计一个**loss function**(损失函数),这个损失函数度量当前模型和提供数据间的误差\n",
    "$$ loss = \\frac{1}{m} \\sum_{i=1}^{n}(H(x^{(i)}-y^{(i)})^{2} $$"
   ]
  },
  {
   "cell_type": "code",
   "execution_count": 17,
   "metadata": {},
   "outputs": [
    {
     "name": "stdout",
     "output_type": "stream",
     "text": [
      "23.660002\n"
     ]
    }
   ],
   "source": [
    "y = tf.placeholder(tf.float32)\n",
    "squared_deltas = tf.square(linear_model - y)\n",
    "loss = tf.reduce_sum(squared_deltas)\n",
    "print(sess.run(loss,{x:[1,2,3,4],y:[0,-1,-2,-3]}))"
   ]
  },
  {
   "cell_type": "markdown",
   "metadata": {},
   "source": [
    "### tf.assign\n",
    "我们分配一个值给Weights和biases手动更改变量值$W=-1$,$b=1$计算损失"
   ]
  },
  {
   "cell_type": "code",
   "execution_count": 18,
   "metadata": {},
   "outputs": [
    {
     "name": "stdout",
     "output_type": "stream",
     "text": [
      "fix loss: 0.0\n"
     ]
    }
   ],
   "source": [
    "fixW = tf.assign(Weights,[-1.])\n",
    "fixb = tf.assign(biases,[1.])\n",
    "sess.run([fixW,fixb])\n",
    "print('fix loss:',sess.run(loss,{x:[1,2,3,4],y:[0,-1,-2,-3]}))"
   ]
  },
  {
   "cell_type": "markdown",
   "metadata": {},
   "source": [
    "## 7、tf.train API\n",
    "TensorFlow 提供**optimizers（优化器）**，最简单的优化器是**gradient descent**(梯度下降)"
   ]
  },
  {
   "cell_type": "markdown",
   "metadata": {},
   "source": [
    "Goal: Minimize loss\n",
    "$$\\min_{W,b} loss(W,b)$$"
   ]
  },
  {
   "cell_type": "code",
   "execution_count": 19,
   "metadata": {},
   "outputs": [
    {
     "name": "stdout",
     "output_type": "stream",
     "text": [
      "0 Weights: [-0.21999997] biases: [-0.456]\n",
      "100 Weights: [-0.84270465] biases: [0.5375326]\n",
      "200 Weights: [-0.9528499] biases: [0.86137295]\n",
      "300 Weights: [-0.98586655] biases: [0.9584459]\n",
      "400 Weights: [-0.9957634] biases: [0.98754394]\n",
      "500 Weights: [-0.99873006] biases: [0.9962662]\n",
      "600 Weights: [-0.99961936] biases: [0.99888086]\n",
      "700 Weights: [-0.9998859] biases: [0.9996646]\n",
      "800 Weights: [-0.9999658] biases: [0.99989945]\n",
      "900 Weights: [-0.9999897] biases: [0.9999697]\n"
     ]
    }
   ],
   "source": [
    "optimizer = tf.train.GradientDescentOptimizer(0.01)\n",
    "train = optimizer.minimize(loss)\n",
    "init = tf.global_variables_initializer()\n",
    "sess.run(init) # reset values to incorrect defaults.\n",
    "\n",
    "for step in range(1000):\n",
    "    sess.run(train,{x:[1,2,3,4],y:[0,-1,-2,-3]})\n",
    "    if step % 100 == 0:\n",
    "        print(step,'Weights:',sess.run(Weights),'biases:',sess.run(biases))"
   ]
  },
  {
   "cell_type": "markdown",
   "metadata": {},
   "source": [
    "这样一个简单的线性回归模型就构建完成。"
   ]
  },
  {
   "cell_type": "markdown",
   "metadata": {},
   "source": [
    "### 用matplotlib 将训练过程可视化"
   ]
  },
  {
   "cell_type": "code",
   "execution_count": 20,
   "metadata": {},
   "outputs": [
    {
     "data": {
      "image/png": "[encoded data removed]",
      "text/plain": [
       "<matplotlib.figure.Figure at 0x20e1ca98e10>"
      ]
     },
     "metadata": {},
     "output_type": "display_data"
    }
   ],
   "source": [
    "import matplotlib.pyplot as plt\n",
    "%matplotlib inline\n",
    "from IPython import display\n",
    "x_data = [1,2,3,4]\n",
    "y_data = [0,-1,-2,-3]\n",
    "optimizer = tf.train.GradientDescentOptimizer(0.01)\n",
    "train = optimizer.minimize(loss)\n",
    "init = tf.global_variables_initializer()\n",
    "sess.run(init) # reset values to incorrect defaults.\n",
    "# plt.ion()\n",
    "\n",
    "for step in range(500):\n",
    "    sess.run(train,{x:x_data,y:y_data})\n",
    "    if step % 10 == 0:\n",
    "        y_pred = sess.run(Weights * x_data + biases)\n",
    "        plt.cla()\n",
    "        plt.scatter(x_data,y_data)\n",
    "        plt.plot(x_data,y_pred, 'r-', lw=2)\n",
    "        plt.text(1,-3,'step=%d'%step,fontdict={'size':15,'color':'red'})\n",
    "        plt.text(2.5,-0.2,'Weights=%.4f'%sess.run(Weights),fontdict={'size':15,'color':'red'})\n",
    "        plt.text(2.5,-0.6,'biases=%.4f'%sess.run(biases),fontdict={'size':15,'color':'red'})\n",
    "        plt.pause(0.01)\n",
    "        display.clear_output(wait=True)\n",
    "# plt.ioff()\n",
    "# plt.show()"
   ]
  },
  {
   "cell_type": "code",
   "execution_count": null,
   "metadata": {
    "collapsed": true
   },
   "outputs": [],
   "source": []
  },
  {
   "cell_type": "code",
   "execution_count": null,
   "metadata": {
    "collapsed": true
   },
   "outputs": [],
   "source": []
  },
  {
   "cell_type": "code",
   "execution_count": null,
   "metadata": {
    "collapsed": true
   },
   "outputs": [],
   "source": []
  }
 ],
 "metadata": {
  "kernelspec": {
   "display_name": "Python 3",
   "language": "python",
   "name": "python3"
  },
  "language_info": {
   "codemirror_mode": {
    "name": "ipython",
    "version": 3
   },
   "file_extension": ".py",
   "mimetype": "text/x-python",
   "name": "python",
   "nbconvert_exporter": "python",
   "pygments_lexer": "ipython3",
   "version": "3.6.1"
  }
 },
 "nbformat": 4,
 "nbformat_minor": 2
}
